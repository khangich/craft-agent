{
 "cells": [
  {
   "cell_type": "code",
   "execution_count": 1,
   "id": "7cdbe470-e48d-45be-bcd0-768487069e2c",
   "metadata": {},
   "outputs": [],
   "source": [
    "import autogen\n",
    "import os"
   ]
  },
  {
   "cell_type": "code",
   "execution_count": 2,
   "id": "312016df-6cbf-4292-95ac-1371467222da",
   "metadata": {},
   "outputs": [],
   "source": [
    "llm_config = {\n",
    "    \"config_list\": [{\"model\": \"gpt-3.5-turbo\", \"api_key\": os.environ[\"OPENAI_API_KEY\"]}],   \n",
    "}"
   ]
  },
  {
   "cell_type": "code",
   "execution_count": 3,
   "id": "16a69349-72aa-4925-950a-9dd75448c21f",
   "metadata": {},
   "outputs": [],
   "source": [
    "def is_termination_msg(msg):\n",
    "    return msg[\"content\"] == \"STOP!!!\""
   ]
  },
  {
   "cell_type": "code",
   "execution_count": 4,
   "id": "915b0784-c422-4ae1-b6c6-4cce063930c5",
   "metadata": {},
   "outputs": [],
   "source": [
    "human_proxy = autogen.ConversableAgent(\n",
    "    \"human_proxy\",\n",
    "    # llm_config=llm_config,\n",
    "    human_input_mode=\"ALWAYS\",  # Never ask for human input.\n",
    ")"
   ]
  },
  {
   "cell_type": "code",
   "execution_count": 5,
   "id": "2a185abe-5f30-4149-81d6-204c19139ab1",
   "metadata": {},
   "outputs": [],
   "source": [
    "github_agent = autogen.ConversableAgent(\n",
    "    \"github_agent\",\n",
    "    system_message=\"You are the expert in github cli. When client asks about github cli, gives them useful information on how to use it?\",\n",
    "    llm_config=llm_config,\n",
    "    is_termination_msg=is_termination_msg,\n",
    "    human_input_mode=\"TERMINATE\"\n",
    ")"
   ]
  },
  {
   "cell_type": "code",
   "execution_count": 9,
   "id": "fd3e58ff-b0f5-4f3d-a25e-a813952c6cd1",
   "metadata": {},
   "outputs": [],
   "source": [
    "def get_unread_message() -> list[str]:\n",
    "    return [\n",
    "        \"Hey team, just a reminder about the meeting at 3 PM today. See you there!\",\n",
    "        \"Does anyone have the link to the latest project report? Thanks!\",\n",
    "        \"Great job on the presentation yesterday! The client was really impressed.\",\n",
    "        \"I'll be working remotely today. Please reach out on Slack if you need anything.\",\n",
    "        \"Can someone review my PR? I need another set of eyes before merging.\",\n",
    "        \"Happy Friday, everyone! 🎉 Any fun plans for the weekend?\",\n",
    "        \"Heads up: The server will be down for maintenance tonight from 10 PM to 12 AM.\",\n",
    "        \"Just a quick update: We've reached 80% of our monthly target. Keep up the good work!\",\n",
    "        \"I'm stuck on a bug and could use some help. Anyone available for a quick call?\",\n",
    "        \"Don't forget to submit your timesheets by the end of the day.\",\n",
    "        \"Lunch is on me today! Any suggestions for where we should order from?\",\n",
    "        \"The new feature deployment is scheduled for tomorrow. Please test your modules.\",\n",
    "        \"Can we reschedule our 1:1 meeting? Something urgent came up.\",\n",
    "        \"Congratulations to [Name] on their promotion to Senior Developer! 🎉\",\n",
    "        \"Please review the updated project timeline and provide your feedback by EOD.\",\n",
    "        \"We need volunteers for the upcoming hackathon. Who's interested?\",\n",
    "        \"I'm looking for recommendations for a good book on project management. Any suggestions?\",\n",
    "        \"Our next team-building activity is a virtual escape room. Hope to see you all there!\",\n",
    "        \"Quick question: What's the best way to handle API rate limiting in our current setup?\",\n",
    "        \"Thanks to everyone for your hard work this quarter. Let's keep the momentum going!\"\n",
    "    ]"
   ]
  },
  {
   "cell_type": "code",
   "execution_count": 8,
   "id": "cfe0cebf-26f8-42aa-a360-c4c31e275d98",
   "metadata": {},
   "outputs": [],
   "source": [
    "slack_agent = autogen.ConversableAgent(\n",
    "    \"slack_agent\",\n",
    "    system_message=\"You are helpful assistant that helps user to read slack messages. You will select the right tool and handle the ask from the user?\",\n",
    "    llm_config=llm_config,\n",
    "    is_termination_msg=is_termination_msg,\n",
    "    human_input_mode=\"TERMINATE\"\n",
    ")"
   ]
  },
  {
   "cell_type": "code",
   "execution_count": 10,
   "id": "f87beeaf-4e24-464c-a2e4-649d2435ba02",
   "metadata": {},
   "outputs": [
    {
     "data": {
      "text/plain": [
       "<function __main__.get_unread_message() -> list[str]>"
      ]
     },
     "execution_count": 10,
     "metadata": {},
     "output_type": "execute_result"
    }
   ],
   "source": [
    "slack_agent.register_for_llm(\n",
    "    name=\"get_unread_message\",\n",
    "    description=\"Get unread message from slack from the current registered user\"\n",
    ")(get_unread_message)"
   ]
  },
  {
   "cell_type": "code",
   "execution_count": 6,
   "id": "dc8a15f7-677f-4395-977f-5bb4d367b24d",
   "metadata": {},
   "outputs": [
    {
     "name": "stdout",
     "output_type": "stream",
     "text": [
      "\u001b[33mhuman_proxy\u001b[0m (to github_agent):\n",
      "\n",
      "How do i use git pull command?\n",
      "\n",
      "--------------------------------------------------------------------------------\n",
      "\u001b[31m\n",
      ">>>>>>>> USING AUTO REPLY...\u001b[0m\n",
      "\u001b[33mgithub_agent\u001b[0m (to human_proxy):\n",
      "\n",
      "To use the `git pull` command in GitHub CLI, you can follow these steps:\n",
      "\n",
      "1. Open your terminal or command prompt.\n",
      "2. Navigate to the local repository where you want to pull changes from the remote repository.\n",
      "3. Run the following command:\n",
      "```\n",
      "gh repo sync\n",
      "```\n",
      "This command will fetch and merge changes in the remote repository to your local repository.\n",
      "\n",
      "Alternatively, you can use the traditional `git pull` command as follows:\n",
      "```\n",
      "git pull\n",
      "```\n",
      "\n",
      "This will fetch the changes from the remote repository and merge them into your current branch.\n",
      "\n",
      "Remember to commit any local changes before pulling to avoid conflicts.\n",
      "\n",
      "--------------------------------------------------------------------------------\n"
     ]
    },
    {
     "name": "stdin",
     "output_type": "stream",
     "text": [
      "Provide feedback to github_agent. Press enter to skip and use auto-reply, or type 'exit' to end the conversation:  Tell me how to use git pull --rebase\n"
     ]
    },
    {
     "name": "stdout",
     "output_type": "stream",
     "text": [
      "\u001b[33mhuman_proxy\u001b[0m (to github_agent):\n",
      "\n",
      "Tell me how to use git pull --rebase\n",
      "\n",
      "--------------------------------------------------------------------------------\n",
      "\u001b[31m\n",
      ">>>>>>>> USING AUTO REPLY...\u001b[0m\n",
      "\u001b[33mgithub_agent\u001b[0m (to human_proxy):\n",
      "\n",
      "In GitHub CLI, if you want to pull changes from a remote repository and rebase your local changes on top of the pulled changes, you can use the `git pull --rebase` command. Here's how you can do it:\n",
      "\n",
      "1. Open your terminal or command prompt.\n",
      "2. Navigate to the local repository where you want to pull changes from the remote repository.\n",
      "3. Run the following command to perform a pull with rebase:\n",
      "```\n",
      "gh repo sync --rebase\n",
      "```\n",
      "Alternatively, you can use the traditional `git pull --rebase` command as follows:\n",
      "```\n",
      "git pull --rebase\n",
      "```\n",
      "\n",
      "This command will fetch the changes from the remote repository and reapply your local commits on top of the pulled changes, resulting in a linear commit history.\n",
      "\n",
      "Before using `git pull --rebase`, ensure that you have committed any local changes to avoid conflicts during the rebase process.\n",
      "\n",
      "--------------------------------------------------------------------------------\n"
     ]
    },
    {
     "name": "stdin",
     "output_type": "stream",
     "text": [
      "Provide feedback to github_agent. Press enter to skip and use auto-reply, or type 'exit' to end the conversation:  AGENT_STOP\n"
     ]
    },
    {
     "name": "stdout",
     "output_type": "stream",
     "text": [
      "\u001b[33mhuman_proxy\u001b[0m (to github_agent):\n",
      "\n",
      "AGENT_STOP\n",
      "\n",
      "--------------------------------------------------------------------------------\n"
     ]
    },
    {
     "name": "stdin",
     "output_type": "stream",
     "text": [
      "Please give feedback to human_proxy. Press enter or type 'exit' to stop the conversation:  \n"
     ]
    },
    {
     "name": "stdout",
     "output_type": "stream",
     "text": [
      "\u001b[31m\n",
      ">>>>>>>> NO HUMAN INPUT RECEIVED.\u001b[0m\n"
     ]
    },
    {
     "data": {
      "text/plain": [
       "ChatResult(chat_id=None, chat_history=[{'content': 'How do i use git pull command?', 'role': 'assistant'}, {'content': 'To use the `git pull` command in GitHub CLI, you can follow these steps:\\n\\n1. Open your terminal or command prompt.\\n2. Navigate to the local repository where you want to pull changes from the remote repository.\\n3. Run the following command:\\n```\\ngh repo sync\\n```\\nThis command will fetch and merge changes in the remote repository to your local repository.\\n\\nAlternatively, you can use the traditional `git pull` command as follows:\\n```\\ngit pull\\n```\\n\\nThis will fetch the changes from the remote repository and merge them into your current branch.\\n\\nRemember to commit any local changes before pulling to avoid conflicts.', 'role': 'user'}, {'content': 'Tell me how to use git pull --rebase', 'role': 'assistant'}, {'content': \"In GitHub CLI, if you want to pull changes from a remote repository and rebase your local changes on top of the pulled changes, you can use the `git pull --rebase` command. Here's how you can do it:\\n\\n1. Open your terminal or command prompt.\\n2. Navigate to the local repository where you want to pull changes from the remote repository.\\n3. Run the following command to perform a pull with rebase:\\n```\\ngh repo sync --rebase\\n```\\nAlternatively, you can use the traditional `git pull --rebase` command as follows:\\n```\\ngit pull --rebase\\n```\\n\\nThis command will fetch the changes from the remote repository and reapply your local commits on top of the pulled changes, resulting in a linear commit history.\\n\\nBefore using `git pull --rebase`, ensure that you have committed any local changes to avoid conflicts during the rebase process.\", 'role': 'user'}, {'content': 'AGENT_STOP', 'role': 'assistant'}], summary='AGENT_STOP', cost={'usage_including_cached_inference': {'total_cost': 0.0005830000000000001, 'gpt-3.5-turbo-0125': {'cost': 0.0005830000000000001, 'prompt_tokens': 233, 'completion_tokens': 311, 'total_tokens': 544}}, 'usage_excluding_cached_inference': {'total_cost': 0.0005830000000000001, 'gpt-3.5-turbo-0125': {'cost': 0.0005830000000000001, 'prompt_tokens': 233, 'completion_tokens': 311, 'total_tokens': 544}}}, human_input=['Tell me how to use git pull --rebase', 'AGENT_STOP'])"
      ]
     },
     "execution_count": 6,
     "metadata": {},
     "output_type": "execute_result"
    }
   ],
   "source": [
    "human_proxy.initiate_chat(\n",
    "    github_agent,\n",
    "    message=\"How do i use git pull command?\"\n",
    ")"
   ]
  },
  {
   "cell_type": "code",
   "execution_count": null,
   "id": "91b96940-0edf-404e-8ad1-c64134acdc4f",
   "metadata": {},
   "outputs": [
    {
     "name": "stdout",
     "output_type": "stream",
     "text": [
      "\u001b[33mhuman_proxy\u001b[0m (to slack_agent):\n",
      "\n",
      "What is important from my slack message?\n",
      "\n",
      "--------------------------------------------------------------------------------\n",
      "\u001b[31m\n",
      ">>>>>>>> USING AUTO REPLY...\u001b[0m\n",
      "\u001b[33mslack_agent\u001b[0m (to human_proxy):\n",
      "\n",
      "\u001b[32m***** Suggested tool call (call_J8NMXpKx1KjxaiamFzLpuoNZ): get_unread_message *****\u001b[0m\n",
      "Arguments: \n",
      "{}\n",
      "\u001b[32m***********************************************************************************\u001b[0m\n",
      "\n",
      "--------------------------------------------------------------------------------\n"
     ]
    }
   ],
   "source": [
    "human_proxy.initiate_chat(\n",
    "    slack_agent,\n",
    "    message=\"What is important from my slack message?\"\n",
    ")"
   ]
  },
  {
   "cell_type": "code",
   "execution_count": null,
   "id": "00c7c271-3495-441b-af19-a8e6477e3882",
   "metadata": {},
   "outputs": [],
   "source": []
  }
 ],
 "metadata": {
  "kernelspec": {
   "display_name": "Python 3 (ipykernel)",
   "language": "python",
   "name": "python3"
  },
  "language_info": {
   "codemirror_mode": {
    "name": "ipython",
    "version": 3
   },
   "file_extension": ".py",
   "mimetype": "text/x-python",
   "name": "python",
   "nbconvert_exporter": "python",
   "pygments_lexer": "ipython3",
   "version": "3.10.13"
  }
 },
 "nbformat": 4,
 "nbformat_minor": 5
}
