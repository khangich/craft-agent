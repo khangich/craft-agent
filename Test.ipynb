{
 "cells": [
  {
   "cell_type": "code",
   "execution_count": 1,
   "id": "7cdbe470-e48d-45be-bcd0-768487069e2c",
   "metadata": {},
   "outputs": [],
   "source": [
    "import autogen\n",
    "import os"
   ]
  },
  {
   "cell_type": "code",
   "execution_count": 2,
   "id": "312016df-6cbf-4292-95ac-1371467222da",
   "metadata": {},
   "outputs": [],
   "source": [
    "llm_config = {\n",
    "    \"config_list\": [{\"model\": \"gpt-3.5-turbo\", \"api_key\": os.environ[\"OPENAI_API_KEY\"]}],   \n",
    "}"
   ]
  },
  {
   "cell_type": "code",
   "execution_count": 3,
   "id": "16a69349-72aa-4925-950a-9dd75448c21f",
   "metadata": {},
   "outputs": [],
   "source": [
    "def is_termination_msg(msg):\n",
    "    return msg[\"content\"] == \"STOP!!!\""
   ]
  },
  {
   "cell_type": "code",
   "execution_count": 4,
   "id": "915b0784-c422-4ae1-b6c6-4cce063930c5",
   "metadata": {},
   "outputs": [],
   "source": [
    "human_proxy = autogen.ConversableAgent(\n",
    "    \"human_proxy\",\n",
    "    human_input_mode=\"ALWAYS\",  # Never ask for human input.\n",
    ")"
   ]
  },
  {
   "cell_type": "code",
   "execution_count": 5,
   "id": "c38f2787-48ae-41cf-b53b-de8ded2122e4",
   "metadata": {},
   "outputs": [],
   "source": [
    "# The user proxy agent is used for interacting with the assistant agent\n",
    "# and executes tool calls.\n",
    "user_proxy = autogen.ConversableAgent(\n",
    "    name=\"User\",\n",
    "    is_termination_msg=lambda msg: msg.get(\"content\") and \"TERMINATE\" in msg[\"content\"],\n",
    "    human_input_mode=\"NEVER\",\n",
    ")"
   ]
  },
  {
   "cell_type": "code",
   "execution_count": 6,
   "id": "2a185abe-5f30-4149-81d6-204c19139ab1",
   "metadata": {},
   "outputs": [],
   "source": [
    "github_agent = autogen.ConversableAgent(\n",
    "    \"github_agent\",\n",
    "    system_message=\"You are the expert in github cli. When client asks about github cli, gives them useful information on how to use it?\",\n",
    "    llm_config=llm_config,\n",
    "    is_termination_msg=is_termination_msg,\n",
    "    human_input_mode=\"TERMINATE\"\n",
    ")"
   ]
  },
  {
   "cell_type": "code",
   "execution_count": 7,
   "id": "fd3e58ff-b0f5-4f3d-a25e-a813952c6cd1",
   "metadata": {},
   "outputs": [],
   "source": [
    "def get_unread_messages() -> list[str]:\n",
    "    print('Executing get_unread_messages')\n",
    "    return [\n",
    "        \"Hey team, just a reminder about the meeting at 3 PM today. See you there!\",\n",
    "        \"Does anyone have the link to the latest project report? Thanks!\",\n",
    "        \"Great job on the presentation yesterday! The client was really impressed.\",\n",
    "        \"I'll be working remotely today. Please reach out on Slack if you need anything.\",\n",
    "        \"Can someone review my PR? I need another set of eyes before merging.\",\n",
    "        \"Happy Friday, everyone! 🎉 Any fun plans for the weekend?\",\n",
    "        \"Heads up: The server will be down for maintenance tonight from 10 PM to 12 AM.\",\n",
    "        \"Just a quick update: We've reached 80% of our monthly target. Keep up the good work!\",\n",
    "        \"I'm stuck on a bug and could use some help. Anyone available for a quick call?\",\n",
    "        \"Don't forget to submit your timesheets by the end of the day.\",\n",
    "        \"Lunch is on me today! Any suggestions for where we should order from?\",\n",
    "        \"The new feature deployment is scheduled for tomorrow. Please test your modules.\",\n",
    "        \"Can we reschedule our 1:1 meeting? Something urgent came up.\",\n",
    "        \"Congratulations to [Name] on their promotion to Senior Developer! 🎉\",\n",
    "        \"Please review the updated project timeline and provide your feedback by EOD.\",\n",
    "        \"We need volunteers for the upcoming hackathon. Who's interested?\",\n",
    "        \"I'm looking for recommendations for a good book on project management. Any suggestions?\",\n",
    "        \"Our next team-building activity is a virtual escape room. Hope to see you all there!\",\n",
    "        \"Quick question: What's the best way to handle API rate limiting in our current setup?\",\n",
    "        \"Thanks to everyone for your hard work this quarter. Let's keep the momentum going!\"\n",
    "    ]"
   ]
  },
  {
   "cell_type": "code",
   "execution_count": 8,
   "id": "cfe0cebf-26f8-42aa-a360-c4c31e275d98",
   "metadata": {},
   "outputs": [],
   "source": [
    "slack_agent = autogen.ConversableAgent(\n",
    "    \"slack_agent\",\n",
    "    system_message=\"You are helpful assistant that helps user to read slack messages. You will select the right tool and handle the ask from the user?\",\n",
    "    llm_config=llm_config,\n",
    "    is_termination_msg=is_termination_msg,\n",
    "    human_input_mode=\"TERMINATE\"\n",
    ")"
   ]
  },
  {
   "cell_type": "code",
   "execution_count": 9,
   "id": "f87beeaf-4e24-464c-a2e4-649d2435ba02",
   "metadata": {},
   "outputs": [
    {
     "data": {
      "text/plain": [
       "<function __main__.get_unread_messages() -> list[str]>"
      ]
     },
     "execution_count": 9,
     "metadata": {},
     "output_type": "execute_result"
    }
   ],
   "source": [
    "slack_agent.register_for_llm(\n",
    "    name=\"get_unread_messages\",\n",
    "    description=\"Get unread message from slack from the current registered user\"\n",
    ")(get_unread_messages)\n",
    "\n",
    "human_proxy.register_for_execution(name=\"get_unread_messages\")(get_unread_messages)"
   ]
  },
  {
   "cell_type": "code",
   "execution_count": 10,
   "id": "dc8a15f7-677f-4395-977f-5bb4d367b24d",
   "metadata": {},
   "outputs": [],
   "source": [
    "# human_proxy.initiate_chat(\n",
    "#     github_agent,\n",
    "#     message=\"How do i use git pull command?\"\n",
    "# )"
   ]
  },
  {
   "cell_type": "code",
   "execution_count": null,
   "id": "91b96940-0edf-404e-8ad1-c64134acdc4f",
   "metadata": {},
   "outputs": [
    {
     "name": "stdout",
     "output_type": "stream",
     "text": [
      "\u001b[33mhuman_proxy\u001b[0m (to slack_agent):\n",
      "\n",
      "What is important from my slack message?\n",
      "\n",
      "--------------------------------------------------------------------------------\n",
      "\u001b[31m\n",
      ">>>>>>>> USING AUTO REPLY...\u001b[0m\n",
      "\u001b[33mslack_agent\u001b[0m (to human_proxy):\n",
      "\n",
      "\u001b[32m***** Suggested tool call (call_SOuHPyFS7yTwLaVIsCshzEAM): get_unread_messages *****\u001b[0m\n",
      "Arguments: \n",
      "{}\n",
      "\u001b[32m************************************************************************************\u001b[0m\n",
      "\n",
      "--------------------------------------------------------------------------------\n"
     ]
    },
    {
     "name": "stdin",
     "output_type": "stream",
     "text": [
      "Provide feedback to slack_agent. Press enter to skip and use auto-reply, or type 'exit' to end the conversation:  What is important in my slack?\n"
     ]
    },
    {
     "name": "stdout",
     "output_type": "stream",
     "text": [
      "\u001b[33mhuman_proxy\u001b[0m (to slack_agent):\n",
      "\n",
      "\u001b[33mhuman_proxy\u001b[0m (to slack_agent):\n",
      "\n",
      "\u001b[32m***** Response from calling tool (call_SOuHPyFS7yTwLaVIsCshzEAM) *****\u001b[0m\n",
      "USER INTERRUPTED\n",
      "\u001b[32m**********************************************************************\u001b[0m\n",
      "\n",
      "--------------------------------------------------------------------------------\n",
      "What is important in my slack?\n",
      "\n",
      "--------------------------------------------------------------------------------\n",
      "\u001b[31m\n",
      ">>>>>>>> USING AUTO REPLY...\u001b[0m\n",
      "\u001b[33mslack_agent\u001b[0m (to human_proxy):\n",
      "\n",
      "\u001b[32m***** Suggested tool call (call_K7XSCs7fnCUaOYrdwzJoaGJb): get_unread_messages *****\u001b[0m\n",
      "Arguments: \n",
      "{}\n",
      "\u001b[32m************************************************************************************\u001b[0m\n",
      "\n",
      "--------------------------------------------------------------------------------\n"
     ]
    },
    {
     "name": "stdin",
     "output_type": "stream",
     "text": [
      "Provide feedback to slack_agent. Press enter to skip and use auto-reply, or type 'exit' to end the conversation:  \n"
     ]
    },
    {
     "name": "stdout",
     "output_type": "stream",
     "text": [
      "\u001b[31m\n",
      ">>>>>>>> NO HUMAN INPUT RECEIVED.\u001b[0m\n",
      "\u001b[31m\n",
      ">>>>>>>> USING AUTO REPLY...\u001b[0m\n",
      "\u001b[35m\n",
      ">>>>>>>> EXECUTING FUNCTION get_unread_messages...\u001b[0m\n",
      "Executing get_unread_messages\n",
      "\u001b[33mhuman_proxy\u001b[0m (to slack_agent):\n",
      "\n",
      "\u001b[33mhuman_proxy\u001b[0m (to slack_agent):\n",
      "\n",
      "\u001b[32m***** Response from calling tool (call_K7XSCs7fnCUaOYrdwzJoaGJb) *****\u001b[0m\n",
      "[\"Hey team, just a reminder about the meeting at 3 PM today. See you there!\", \"Does anyone have the link to the latest project report? Thanks!\", \"Great job on the presentation yesterday! The client was really impressed.\", \"I'll be working remotely today. Please reach out on Slack if you need anything.\", \"Can someone review my PR? I need another set of eyes before merging.\", \"Happy Friday, everyone! 🎉 Any fun plans for the weekend?\", \"Heads up: The server will be down for maintenance tonight from 10 PM to 12 AM.\", \"Just a quick update: We've reached 80% of our monthly target. Keep up the good work!\", \"I'm stuck on a bug and could use some help. Anyone available for a quick call?\", \"Don't forget to submit your timesheets by the end of the day.\", \"Lunch is on me today! Any suggestions for where we should order from?\", \"The new feature deployment is scheduled for tomorrow. Please test your modules.\", \"Can we reschedule our 1:1 meeting? Something urgent came up.\", \"Congratulations to [Name] on their promotion to Senior Developer! 🎉\", \"Please review the updated project timeline and provide your feedback by EOD.\", \"We need volunteers for the upcoming hackathon. Who's interested?\", \"I'm looking for recommendations for a good book on project management. Any suggestions?\", \"Our next team-building activity is a virtual escape room. Hope to see you all there!\", \"Quick question: What's the best way to handle API rate limiting in our current setup?\", \"Thanks to everyone for your hard work this quarter. Let's keep the momentum going!\"]\n",
      "\u001b[32m**********************************************************************\u001b[0m\n",
      "\n",
      "--------------------------------------------------------------------------------\n",
      "\u001b[31m\n",
      ">>>>>>>> USING AUTO REPLY...\u001b[0m\n",
      "\u001b[33mslack_agent\u001b[0m (to human_proxy):\n",
      "\n",
      "You have the following unread messages in your Slack:\n",
      "\n",
      "1. Reminder about the meeting at 3 PM today.\n",
      "2. Request for the link to the latest project report.\n",
      "3. Compliment on the presentation yesterday.\n",
      "4. Notification about working remotely today.\n",
      "5. Request for PR review before merging.\n",
      "6. Weekend plans inquiry.\n",
      "7. Maintenance schedule for the server tonight.\n",
      "8. Update on reaching 80% of the monthly target.\n",
      "9. Request for assistance with a bug.\n",
      "10. Reminder to submit timesheets.\n",
      "11. Offer to buy lunch today.\n",
      "12. Deployment schedule for the new feature tomorrow.\n",
      "13. Request to reschedule a 1:1 meeting.\n",
      "14. Congratulations on the promotion to Senior Developer.\n",
      "15. Request for feedback on the updated project timeline.\n",
      "16. Call for volunteers for the upcoming hackathon.\n",
      "17. Inquiry about a good book on project management.\n",
      "18. Announcement of a virtual escape room team-building activity.\n",
      "19. Query on handling API rate limiting.\n",
      "20. Appreciation for everyone's hard work this quarter.\n",
      "\n",
      "--------------------------------------------------------------------------------\n"
     ]
    }
   ],
   "source": [
    "human_proxy.initiate_chat(\n",
    "    slack_agent,\n",
    "    message=\"What is important from my slack message?\"\n",
    ")"
   ]
  },
  {
   "cell_type": "code",
   "execution_count": null,
   "id": "00c7c271-3495-441b-af19-a8e6477e3882",
   "metadata": {},
   "outputs": [],
   "source": []
  }
 ],
 "metadata": {
  "kernelspec": {
   "display_name": "Python 3 (ipykernel)",
   "language": "python",
   "name": "python3"
  },
  "language_info": {
   "codemirror_mode": {
    "name": "ipython",
    "version": 3
   },
   "file_extension": ".py",
   "mimetype": "text/x-python",
   "name": "python",
   "nbconvert_exporter": "python",
   "pygments_lexer": "ipython3",
   "version": "3.10.13"
  }
 },
 "nbformat": 4,
 "nbformat_minor": 5
}
